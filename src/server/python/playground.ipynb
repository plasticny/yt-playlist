{
 "cells": [
  {
   "cell_type": "code",
   "execution_count": 3,
   "metadata": {},
   "outputs": [],
   "source": [
    "from pytube import Playlist\n",
    "\n",
    "ls = Playlist(\"https://www.youtube.com/playlist?list=PLD7UlE9Qf9UbWqBmh7u0EPOKvsEVpq4rT\")"
   ]
  },
  {
   "cell_type": "code",
   "execution_count": 4,
   "metadata": {},
   "outputs": [
    {
     "name": "stdout",
     "output_type": "stream",
     "text": [
      "['https://www.youtube.com/watch?v=lm3N6cqrJ0k', 'https://www.youtube.com/watch?v=K8KA5kVpjAs', 'https://www.youtube.com/watch?v=aLexBjZ_8uA', 'https://www.youtube.com/watch?v=9RGH1j_PIrE', 'https://www.youtube.com/watch?v=_CnLbWsxAfA', 'https://www.youtube.com/watch?v=Ceddv3TaRJs', 'https://www.youtube.com/watch?v=bOT_0rCh3rc', 'https://www.youtube.com/watch?v=jmOiAAvdExk', 'https://www.youtube.com/watch?v=Y8_42Y6ls5o', 'https://www.youtube.com/watch?v=svEqmLS25-g', 'https://www.youtube.com/watch?v=aPL7VkpIVdk', 'https://www.youtube.com/watch?v=zy8vTMJtJOQ', 'https://www.youtube.com/watch?v=VkbOdPoMlZ8', 'https://www.youtube.com/watch?v=ZvRJVzBK7eE', 'https://www.youtube.com/watch?v=pfO8KFcVtiY', 'https://www.youtube.com/watch?v=kYneHoH4Is4', 'https://www.youtube.com/watch?v=9hml5ucHhUs', 'https://www.youtube.com/watch?v=T5bbDVY4J3g', 'https://www.youtube.com/watch?v=ecr4UITzLfA', 'https://www.youtube.com/watch?v=4JWz1oHtrOI', 'https://www.youtube.com/watch?v=KbUTVWQR4Uo', 'https://www.youtube.com/watch?v=1e0VGOOYF6w', 'https://www.youtube.com/watch?v=7MyCCMWJAkw', 'https://www.youtube.com/watch?v=PeDFyoCxNJc', 'https://www.youtube.com/watch?v=w9F3wqXWZdM', 'https://www.youtube.com/watch?v=Dx5V-_cwlP0', 'https://www.youtube.com/watch?v=4m4tMjZf828', 'https://www.youtube.com/watch?v=rChWvIC_wB0', 'https://www.youtube.com/watch?v=9hpWVB7aawc', 'https://www.youtube.com/watch?v=D_CZiEKtusI', 'https://www.youtube.com/watch?v=ON1j9Mx8RU4', 'https://www.youtube.com/watch?v=N6uvsYTyOHQ', 'https://www.youtube.com/watch?v=3r-6ImFCT8M', 'https://www.youtube.com/watch?v=dpCZQUNdAAI', 'https://www.youtube.com/watch?v=y2qPVXmwSiQ', 'https://www.youtube.com/watch?v=sBiyisoGjYE', 'https://www.youtube.com/watch?v=8uSPkf9NQ3o', 'https://www.youtube.com/watch?v=mBAf0U4SjD4', 'https://www.youtube.com/watch?v=O0nnLtDdWQ8', 'https://www.youtube.com/watch?v=UOh6nvmFc2o', 'https://www.youtube.com/watch?v=coFMdzqMhTc', 'https://www.youtube.com/watch?v=zK-RUYiYLok', 'https://www.youtube.com/watch?v=A-Ie0VFBAbo']\n"
     ]
    }
   ],
   "source": [
    "print(ls.video_urls)"
   ]
  }
 ],
 "metadata": {
  "kernelspec": {
   "display_name": "Python 3",
   "language": "python",
   "name": "python3"
  },
  "language_info": {
   "codemirror_mode": {
    "name": "ipython",
    "version": 3
   },
   "file_extension": ".py",
   "mimetype": "text/x-python",
   "name": "python",
   "nbconvert_exporter": "python",
   "pygments_lexer": "ipython3",
   "version": "3.9.4"
  },
  "orig_nbformat": 4
 },
 "nbformat": 4,
 "nbformat_minor": 2
}
